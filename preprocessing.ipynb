{
 "cells": [
  {
   "cell_type": "code",
   "execution_count": null,
   "metadata": {},
   "outputs": [],
   "source": [
    "import numpy as np\n",
    "import pandas as pd"
   ]
  },
  {
   "cell_type": "code",
   "execution_count": null,
   "metadata": {},
   "outputs": [],
   "source": [
    "de_edges = pd.read_csv('./musae_DE_edges.csv')\n",
    "de_nodes = pd.read_csv('./musae_DE_target.csv')\n",
    "engb_edges = pd.read_csv('./musae_ENGB_edges.csv')\n",
    "engb_nodes = pd.read_csv('./musae_ENGB_target.csv')\n",
    "es_edges = pd.read_csv('./musae_ES_edges.csv')\n",
    "es_nodes = pd.read_csv('./musae_ES_target.csv')\n",
    "fr_edges = pd.read_csv('./musae_FR_edges.csv')\n",
    "fr_nodes = pd.read_csv('./musae_FR_target.csv')\n",
    "ptbr_edges = pd.read_csv('./musae_PTBR_edges.csv')\n",
    "ptbr_nodes = pd.read_csv('./musae_PTBR_target.csv')\n",
    "ru_edges = pd.read_csv('./musae_RU_edges.csv')\n",
    "ru_nodes = pd.read_csv('./musae_RU_target.csv')"
   ]
  },
  {
   "cell_type": "code",
   "execution_count": null,
   "metadata": {},
   "outputs": [],
   "source": [
    "#Edges\n",
    "de_edges['from'] = 'de_' + de_edges['from'].astype('str')\n",
    "de_edges['to'] = 'de_' + de_edges['to'].astype('str')\n",
    "\n",
    "engb_edges['from'] = 'engb_' + engb_edges['from'].astype('str')\n",
    "engb_edges['to'] = 'engb_' + engb_edges['to'].astype('str')\n",
    "\n",
    "es_edges['from'] = 'es_' + es_edges['from'].astype('str')\n",
    "es_edges['to'] = 'es_' + es_edges['to'].astype('str')\n",
    "\n",
    "fr_edges['from'] = 'fr_' + fr_edges['from'].astype('str')\n",
    "fr_edges['to'] = 'fr_' + fr_edges['to'].astype('str')\n",
    "\n",
    "ptbr_edges['from'] = 'ptbr_' + ptbr_edges['from'].astype('str')\n",
    "ptbr_edges['to'] = 'ptbr_' + ptbr_edges['to'].astype('str')\n",
    "\n",
    "ru_edges['from'] = 'ru_' + ru_edges['from'].astype('str')\n",
    "ru_edges['to'] = 'ru_' + ru_edges['to'].astype('str')"
   ]
  },
  {
   "cell_type": "code",
   "execution_count": null,
   "metadata": {},
   "outputs": [],
   "source": [
    "#Nodes\n",
    "de_nodes['new_id'] = 'de_' + de_nodes['new_id'].astype('str')\n",
    "\n",
    "engb_nodes['new_id'] = 'engb_' + engb_nodes['new_id'].astype('str')\n",
    "\n",
    "es_nodes['new_id'] = 'es_' + es_nodes['new_id'].astype('str')\n",
    "\n",
    "fr_nodes['new_id'] = 'fr_' + fr_nodes['new_id'].astype('str')\n",
    "\n",
    "ptbr_nodes['new_id'] = 'ptbr_' + ptbr_nodes['new_id'].astype('str')\n",
    "\n",
    "ru_nodes['new_id'] = 'ru_' + ru_nodes['new_id'].astype('str')"
   ]
  },
  {
   "cell_type": "code",
   "execution_count": null,
   "metadata": {},
   "outputs": [],
   "source": [
    "de_edges.to_csv('./DE_edges.csv', index=False)\n",
    "de_nodes.to_csv('./DE_nodes.csv', index=False)\n",
    "engb_edges.to_csv('./ENGB_edges.csv', index=False)\n",
    "engb_nodes.to_csv('./ENGB_nodes.csv', index=False)\n",
    "es_edges.to_csv('./ES_edges.csv', index=False)\n",
    "es_nodes.to_csv('./ES_nodes.csv', index=False)\n",
    "fr_edges.to_csv('./FR_edges.csv', index=False)\n",
    "fr_nodes.to_csv('./FR_nodes.csv', index=False)\n",
    "ptbr_edges.to_csv('./PTBR_edges.csv', index=False)\n",
    "ptbr_nodes.to_csv('./PTBR_nodes.csv', index=False)\n",
    "ru_edges.to_csv('./RU_edges.csv', index=False)\n",
    "ru_nodes.to_csv('./RU_nodes.csv', index=False)"
   ]
  },
  {
   "cell_type": "code",
   "execution_count": null,
   "metadata": {},
   "outputs": [],
   "source": [
    "twitch_edges = pd.concat([de_edges, engb_edges, es_edges, fr_edges, ptbr_edges, ru_edges], ignore_index= True)\n",
    "twitch_nodes = pd.concat([de_nodes, engb_nodes, es_nodes, fr_nodes, ptbr_nodes, ru_nodes], ignore_index= True)"
   ]
  },
  {
   "cell_type": "code",
   "execution_count": null,
   "metadata": {},
   "outputs": [],
   "source": [
    "de_edges.shape[0] + engb_edges.shape[0] + es_edges.shape[0] + fr_edges.shape[0] + ptbr_edges.shape[0] + ru_edges.shape[0]"
   ]
  },
  {
   "cell_type": "code",
   "execution_count": null,
   "metadata": {},
   "outputs": [],
   "source": [
    "twitch_edges.shape[0]"
   ]
  },
  {
   "cell_type": "code",
   "execution_count": null,
   "metadata": {},
   "outputs": [],
   "source": [
    "twitch_nodes.shape[0]"
   ]
  },
  {
   "cell_type": "code",
   "execution_count": null,
   "metadata": {},
   "outputs": [],
   "source": [
    "de_nodes.shape[0] + engb_nodes.shape[0] + es_nodes.shape[0] + fr_nodes.shape[0] + ptbr_nodes.shape[0] + ru_nodes.shape[0]"
   ]
  },
  {
   "cell_type": "code",
   "execution_count": null,
   "metadata": {},
   "outputs": [],
   "source": [
    "twitch_edges.to_csv('./twitch_edges.csv', index= False)\n",
    "twitch_nodes.to_csv('./twitch_nodes.csv', index= False)"
   ]
  },
  {
   "cell_type": "code",
   "execution_count": null,
   "metadata": {},
   "outputs": [],
   "source": [
    "print(de_edges.shape[0], engb_edges.shape[0], es_edges.shape[0], fr_edges.shape[0], ptbr_edges.shape[0], ru_edges.shape[0])"
   ]
  },
  {
   "cell_type": "code",
   "execution_count": null,
   "metadata": {},
   "outputs": [],
   "source": [
    "print(de_nodes.shape[0], engb_nodes.shape[0], es_nodes.shape[0], fr_nodes.shape[0], ptbr_nodes.shape[0], ru_nodes.shape[0])"
   ]
  }
 ],
 "metadata": {
  "kernelspec": {
   "display_name": "Python 3.9.7 ('base')",
   "language": "python",
   "name": "python3"
  },
  "language_info": {
   "codemirror_mode": {
    "name": "ipython",
    "version": 3
   },
   "file_extension": ".py",
   "mimetype": "text/x-python",
   "name": "python",
   "nbconvert_exporter": "python",
   "pygments_lexer": "ipython3",
   "version": "3.9.7"
  },
  "orig_nbformat": 4,
  "vscode": {
   "interpreter": {
    "hash": "43c9758a2f8a5c10724e594cc1134cf6aa74bca296b9630f20e6161947b9769a"
   }
  }
 },
 "nbformat": 4,
 "nbformat_minor": 2
}
